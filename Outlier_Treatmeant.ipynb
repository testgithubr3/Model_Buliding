{
 "cells": [
  {
   "cell_type": "code",
   "execution_count": 5,
   "id": "aba5eece",
   "metadata": {},
   "outputs": [],
   "source": [
    "import numpy as np\n",
    "import pandas as pd\n",
    "import matplotlib.pyplot as plt\n",
    "%matplotlib inline"
   ]
  },
  {
   "cell_type": "code",
   "execution_count": 4,
   "id": "5cd9c95d",
   "metadata": {},
   "outputs": [],
   "source": [
    "file = pd.read_csv('tested.csv')"
   ]
  },
  {
   "cell_type": "markdown",
   "id": "79f7e1b7",
   "metadata": {},
   "source": [
    "# univariate Outlier Detection"
   ]
  },
  {
   "cell_type": "code",
   "execution_count": 13,
   "id": "27300613",
   "metadata": {},
   "outputs": [
    {
     "data": {
      "text/plain": [
       "<AxesSubplot:>"
      ]
     },
     "execution_count": 13,
     "metadata": {},
     "output_type": "execute_result"
    },
    {
     "data": {
      "image/png": "[encoded data removed]",
      "text/plain": [
       "<Figure size 432x288 with 1 Axes>"
      ]
     },
     "metadata": {
      "needs_background": "light"
     },
     "output_type": "display_data"
    }
   ],
   "source": [
    "file['Age'].plot.box()"
   ]
  },
  {
   "cell_type": "markdown",
   "id": "78ecbdb1",
   "metadata": {},
   "source": [
    " # Bivariate Outlier Detection"
   ]
  },
  {
   "cell_type": "code",
   "execution_count": 10,
   "id": "b962dc61",
   "metadata": {},
   "outputs": [
    {
     "data": {
      "text/plain": [
       "<AxesSubplot:xlabel='Age', ylabel='Fare'>"
      ]
     },
     "execution_count": 10,
     "metadata": {},
     "output_type": "execute_result"
    },
    {
     "data": {
      "image/png": "[encoded data removed]",
      "text/plain": [
       "<Figure size 432x288 with 1 Axes>"
      ]
     },
     "metadata": {
      "needs_background": "light"
     },
     "output_type": "display_data"
    }
   ],
   "source": [
    "file.plot.scatter('Age','Fare')"
   ]
  },
  {
   "cell_type": "markdown",
   "id": "a61be325",
   "metadata": {},
   "source": [
    "# Removing outliers from dataframe"
   ]
  },
  {
   "cell_type": "code",
   "execution_count": 9,
   "id": "b2bf6850",
   "metadata": {},
   "outputs": [],
   "source": [
    "file = file[file['Fare']<300]"
   ]
  },
  {
   "cell_type": "markdown",
   "id": "a0c5ace0",
   "metadata": {},
   "source": [
    "# Replacing outliers in age with the mean age value"
   ]
  },
  {
   "cell_type": "code",
   "execution_count": 11,
   "id": "209acb8b",
   "metadata": {},
   "outputs": [
    {
     "data": {
      "text/plain": [
       "81    36.90303\n",
       "96    45.90303\n",
       "Name: Age, dtype: float64"
      ]
     },
     "execution_count": 11,
     "metadata": {},
     "output_type": "execute_result"
    }
   ],
   "source": [
    "file.loc[file['Age']>65,'Age']-np.mean(file['Age'])"
   ]
  },
  {
   "cell_type": "code",
   "execution_count": null,
   "id": "54f3e8e1",
   "metadata": {},
   "outputs": [],
   "source": []
  }
 ],
 "metadata": {
  "kernelspec": {
   "display_name": "Python 3 (ipykernel)",
   "language": "python",
   "name": "python3"
  },
  "language_info": {
   "codemirror_mode": {
    "name": "ipython",
    "version": 3
   },
   "file_extension": ".py",
   "mimetype": "text/x-python",
   "name": "python",
   "nbconvert_exporter": "python",
   "pygments_lexer": "ipython3",
   "version": "3.9.12"
  }
 },
 "nbformat": 4,
 "nbformat_minor": 5
}

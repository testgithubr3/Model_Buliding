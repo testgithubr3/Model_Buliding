{
 "cells": [
  {
   "cell_type": "raw",
   "id": "5972a712",
   "metadata": {},
   "source": [
    "A one hot encoding is used to convert the categorical variables into numeric values. "
   ]
  },
  {
   "cell_type": "code",
   "execution_count": 20,
   "id": "825af167",
   "metadata": {},
   "outputs": [],
   "source": [
    "import warnings\n",
    "warnings.filterwarnings('ignore')"
   ]
  },
  {
   "cell_type": "code",
   "execution_count": 25,
   "id": "65d3b437",
   "metadata": {},
   "outputs": [],
   "source": [
    "from numpy import array\n",
    "from sklearn.preprocessing import LabelEncoder\n",
    "from sklearn.preprocessing import OneHotEncoder"
   ]
  },
  {
   "cell_type": "code",
   "execution_count": 26,
   "id": "ed096723",
   "metadata": {},
   "outputs": [],
   "source": [
    "data=['cat','dog','cow','camel']\n",
    "#data1=['apple','apple','orange','apple','banana','banana','orange','apple']\n"
   ]
  },
  {
   "cell_type": "code",
   "execution_count": 27,
   "id": "4d71b0fc",
   "metadata": {
    "scrolled": true
   },
   "outputs": [
    {
     "name": "stdout",
     "output_type": "stream",
     "text": [
      "[1 3 2 0]\n"
     ]
    }
   ],
   "source": [
    "le=LabelEncoder()\n",
    "integer_encoded = le.fit_transform(data)\n",
    "print(integer_encoded)"
   ]
  },
  {
   "cell_type": "code",
   "execution_count": 28,
   "id": "3cbb7456",
   "metadata": {
    "scrolled": true
   },
   "outputs": [
    {
     "name": "stdout",
     "output_type": "stream",
     "text": [
      "[[1]\n",
      " [3]\n",
      " [2]\n",
      " [0]]\n",
      "[[0. 1. 0. 0.]\n",
      " [0. 0. 0. 1.]\n",
      " [0. 0. 1. 0.]\n",
      " [1. 0. 0. 0.]]\n"
     ]
    }
   ],
   "source": [
    "onehot_encoder = OneHotEncoder(sparse=False)\n",
    "integer_encoded = integer_encoded.reshape(len(integer_encoded),1)\n",
    "onehot_encoded= onehot_encoder.fit_transform(integer_encoded)\n",
    "\n",
    "print(integer_encoded)\n",
    "print(onehot_encoded)"
   ]
  }
 ],
 "metadata": {
  "kernelspec": {
   "display_name": "Python 3 (ipykernel)",
   "language": "python",
   "name": "python3"
  },
  "language_info": {
   "codemirror_mode": {
    "name": "ipython",
    "version": 3
   },
   "file_extension": ".py",
   "mimetype": "text/x-python",
   "name": "python",
   "nbconvert_exporter": "python",
   "pygments_lexer": "ipython3",
   "version": "3.9.12"
  }
 },
 "nbformat": 4,
 "nbformat_minor": 5
}

{
 "cells": [
  {
   "cell_type": "markdown",
   "id": "6a2f4c45",
   "metadata": {},
   "source": [
    "# Support Vector Classification\n",
    "\n",
    "Write a program to implement a support vecctor machine with various datasets and evaluate the classification accuracy\n",
    "- 1.svc\n",
    "- 2.svr"
   ]
  },
  {
   "cell_type": "markdown",
   "id": "bf3a8375",
   "metadata": {},
   "source": [
    "# SVC"
   ]
  },
  {
   "cell_type": "code",
   "execution_count": 1,
   "id": "af0ed547",
   "metadata": {},
   "outputs": [],
   "source": [
    "import warnings\n",
    "warnings.filterwarnings('ignore')"
   ]
  },
  {
   "cell_type": "code",
   "execution_count": 2,
   "id": "0d8e4e0d",
   "metadata": {},
   "outputs": [
    {
     "data": {
      "text/html": [
       "<div>\n",
       "<style scoped>\n",
       "    .dataframe tbody tr th:only-of-type {\n",
       "        vertical-align: middle;\n",
       "    }\n",
       "\n",
       "    .dataframe tbody tr th {\n",
       "        vertical-align: top;\n",
       "    }\n",
       "\n",
       "    .dataframe thead th {\n",
       "        text-align: right;\n",
       "    }\n",
       "</style>\n",
       "<table border=\"1\" class=\"dataframe\">\n",
       "  <thead>\n",
       "    <tr style=\"text-align: right;\">\n",
       "      <th></th>\n",
       "      <th>Age</th>\n",
       "      <th>Sex</th>\n",
       "      <th>BP</th>\n",
       "      <th>Cholesterol</th>\n",
       "      <th>Na_to_K</th>\n",
       "      <th>Drug</th>\n",
       "    </tr>\n",
       "  </thead>\n",
       "  <tbody>\n",
       "    <tr>\n",
       "      <th>0</th>\n",
       "      <td>23</td>\n",
       "      <td>F</td>\n",
       "      <td>HIGH</td>\n",
       "      <td>HIGH</td>\n",
       "      <td>25.355</td>\n",
       "      <td>DrugY</td>\n",
       "    </tr>\n",
       "    <tr>\n",
       "      <th>1</th>\n",
       "      <td>47</td>\n",
       "      <td>M</td>\n",
       "      <td>LOW</td>\n",
       "      <td>HIGH</td>\n",
       "      <td>13.093</td>\n",
       "      <td>drugC</td>\n",
       "    </tr>\n",
       "    <tr>\n",
       "      <th>2</th>\n",
       "      <td>47</td>\n",
       "      <td>M</td>\n",
       "      <td>LOW</td>\n",
       "      <td>HIGH</td>\n",
       "      <td>10.114</td>\n",
       "      <td>drugC</td>\n",
       "    </tr>\n",
       "    <tr>\n",
       "      <th>3</th>\n",
       "      <td>28</td>\n",
       "      <td>F</td>\n",
       "      <td>NORMAL</td>\n",
       "      <td>HIGH</td>\n",
       "      <td>7.798</td>\n",
       "      <td>drugX</td>\n",
       "    </tr>\n",
       "    <tr>\n",
       "      <th>4</th>\n",
       "      <td>61</td>\n",
       "      <td>F</td>\n",
       "      <td>LOW</td>\n",
       "      <td>HIGH</td>\n",
       "      <td>18.043</td>\n",
       "      <td>DrugY</td>\n",
       "    </tr>\n",
       "  </tbody>\n",
       "</table>\n",
       "</div>"
      ],
      "text/plain": [
       "   Age Sex      BP Cholesterol  Na_to_K   Drug\n",
       "0   23   F    HIGH        HIGH   25.355  DrugY\n",
       "1   47   M     LOW        HIGH   13.093  drugC\n",
       "2   47   M     LOW        HIGH   10.114  drugC\n",
       "3   28   F  NORMAL        HIGH    7.798  drugX\n",
       "4   61   F     LOW        HIGH   18.043  DrugY"
      ]
     },
     "execution_count": 2,
     "metadata": {},
     "output_type": "execute_result"
    }
   ],
   "source": [
    "import pandas as pd\n",
    "df = pd.read_csv('drug200.csv')\n",
    "df.head()"
   ]
  },
  {
   "cell_type": "code",
   "execution_count": 3,
   "id": "bbbd6aab",
   "metadata": {},
   "outputs": [],
   "source": [
    "from sklearn.preprocessing import LabelEncoder\n",
    "le = LabelEncoder()\n",
    "df['Sex'] = le.fit_transform(df['Sex'])\n",
    "df['BP'] = le.fit_transform(df['BP'])\n",
    "df['Cholesterol'] = le.fit_transform(df['Cholesterol'])\n"
   ]
  },
  {
   "cell_type": "code",
   "execution_count": 4,
   "id": "9f997746",
   "metadata": {},
   "outputs": [
    {
     "data": {
      "text/html": [
       "<div>\n",
       "<style scoped>\n",
       "    .dataframe tbody tr th:only-of-type {\n",
       "        vertical-align: middle;\n",
       "    }\n",
       "\n",
       "    .dataframe tbody tr th {\n",
       "        vertical-align: top;\n",
       "    }\n",
       "\n",
       "    .dataframe thead th {\n",
       "        text-align: right;\n",
       "    }\n",
       "</style>\n",
       "<table border=\"1\" class=\"dataframe\">\n",
       "  <thead>\n",
       "    <tr style=\"text-align: right;\">\n",
       "      <th></th>\n",
       "      <th>Age</th>\n",
       "      <th>Sex</th>\n",
       "      <th>BP</th>\n",
       "      <th>Cholesterol</th>\n",
       "      <th>Na_to_K</th>\n",
       "      <th>Drug</th>\n",
       "    </tr>\n",
       "  </thead>\n",
       "  <tbody>\n",
       "    <tr>\n",
       "      <th>0</th>\n",
       "      <td>23</td>\n",
       "      <td>0</td>\n",
       "      <td>0</td>\n",
       "      <td>0</td>\n",
       "      <td>25.355</td>\n",
       "      <td>DrugY</td>\n",
       "    </tr>\n",
       "    <tr>\n",
       "      <th>1</th>\n",
       "      <td>47</td>\n",
       "      <td>1</td>\n",
       "      <td>1</td>\n",
       "      <td>0</td>\n",
       "      <td>13.093</td>\n",
       "      <td>drugC</td>\n",
       "    </tr>\n",
       "    <tr>\n",
       "      <th>2</th>\n",
       "      <td>47</td>\n",
       "      <td>1</td>\n",
       "      <td>1</td>\n",
       "      <td>0</td>\n",
       "      <td>10.114</td>\n",
       "      <td>drugC</td>\n",
       "    </tr>\n",
       "    <tr>\n",
       "      <th>3</th>\n",
       "      <td>28</td>\n",
       "      <td>0</td>\n",
       "      <td>2</td>\n",
       "      <td>0</td>\n",
       "      <td>7.798</td>\n",
       "      <td>drugX</td>\n",
       "    </tr>\n",
       "    <tr>\n",
       "      <th>4</th>\n",
       "      <td>61</td>\n",
       "      <td>0</td>\n",
       "      <td>1</td>\n",
       "      <td>0</td>\n",
       "      <td>18.043</td>\n",
       "      <td>DrugY</td>\n",
       "    </tr>\n",
       "    <tr>\n",
       "      <th>...</th>\n",
       "      <td>...</td>\n",
       "      <td>...</td>\n",
       "      <td>...</td>\n",
       "      <td>...</td>\n",
       "      <td>...</td>\n",
       "      <td>...</td>\n",
       "    </tr>\n",
       "    <tr>\n",
       "      <th>195</th>\n",
       "      <td>56</td>\n",
       "      <td>0</td>\n",
       "      <td>1</td>\n",
       "      <td>0</td>\n",
       "      <td>11.567</td>\n",
       "      <td>drugC</td>\n",
       "    </tr>\n",
       "    <tr>\n",
       "      <th>196</th>\n",
       "      <td>16</td>\n",
       "      <td>1</td>\n",
       "      <td>1</td>\n",
       "      <td>0</td>\n",
       "      <td>12.006</td>\n",
       "      <td>drugC</td>\n",
       "    </tr>\n",
       "    <tr>\n",
       "      <th>197</th>\n",
       "      <td>52</td>\n",
       "      <td>1</td>\n",
       "      <td>2</td>\n",
       "      <td>0</td>\n",
       "      <td>9.894</td>\n",
       "      <td>drugX</td>\n",
       "    </tr>\n",
       "    <tr>\n",
       "      <th>198</th>\n",
       "      <td>23</td>\n",
       "      <td>1</td>\n",
       "      <td>2</td>\n",
       "      <td>1</td>\n",
       "      <td>14.020</td>\n",
       "      <td>drugX</td>\n",
       "    </tr>\n",
       "    <tr>\n",
       "      <th>199</th>\n",
       "      <td>40</td>\n",
       "      <td>0</td>\n",
       "      <td>1</td>\n",
       "      <td>1</td>\n",
       "      <td>11.349</td>\n",
       "      <td>drugX</td>\n",
       "    </tr>\n",
       "  </tbody>\n",
       "</table>\n",
       "<p>200 rows × 6 columns</p>\n",
       "</div>"
      ],
      "text/plain": [
       "     Age  Sex  BP  Cholesterol  Na_to_K   Drug\n",
       "0     23    0   0            0   25.355  DrugY\n",
       "1     47    1   1            0   13.093  drugC\n",
       "2     47    1   1            0   10.114  drugC\n",
       "3     28    0   2            0    7.798  drugX\n",
       "4     61    0   1            0   18.043  DrugY\n",
       "..   ...  ...  ..          ...      ...    ...\n",
       "195   56    0   1            0   11.567  drugC\n",
       "196   16    1   1            0   12.006  drugC\n",
       "197   52    1   2            0    9.894  drugX\n",
       "198   23    1   2            1   14.020  drugX\n",
       "199   40    0   1            1   11.349  drugX\n",
       "\n",
       "[200 rows x 6 columns]"
      ]
     },
     "execution_count": 4,
     "metadata": {},
     "output_type": "execute_result"
    }
   ],
   "source": [
    "df"
   ]
  },
  {
   "cell_type": "code",
   "execution_count": 5,
   "id": "5fb92f11",
   "metadata": {},
   "outputs": [],
   "source": [
    "Y = df['Drug']\n",
    "X = df.drop(['Drug'], axis=1)\n",
    "from sklearn.model_selection import train_test_split\n",
    "X_train, X_test, Y_train, Y_test = train_test_split(X, Y, test_size=0.3)"
   ]
  },
  {
   "cell_type": "code",
   "execution_count": 6,
   "id": "80f3ecde",
   "metadata": {},
   "outputs": [
    {
     "data": {
      "text/plain": [
       "1.0"
      ]
     },
     "execution_count": 6,
     "metadata": {},
     "output_type": "execute_result"
    }
   ],
   "source": [
    "from sklearn.svm import SVC\n",
    "svc = SVC(kernel='linear',C=1E10)\n",
    "svc.fit(X_train, Y_train)\n",
    "y_pred = svc.predict(X_test)\n",
    "svc.score(X_test, Y_test)"
   ]
  },
  {
   "cell_type": "code",
   "execution_count": 7,
   "id": "610fba90",
   "metadata": {},
   "outputs": [
    {
     "data": {
      "text/plain": [
       "array([[48.   ,  0.   ,  1.   ,  0.   , 15.036],\n",
       "       [74.   ,  1.   ,  0.   ,  1.   , 15.436],\n",
       "       [60.   ,  1.   ,  2.   ,  0.   , 15.171],\n",
       "       [43.   ,  1.   ,  1.   ,  0.   , 15.376],\n",
       "       [41.   ,  1.   ,  0.   ,  1.   , 15.156],\n",
       "       [56.   ,  1.   ,  1.   ,  0.   , 15.015],\n",
       "       [24.   ,  1.   ,  0.   ,  1.   ,  9.475],\n",
       "       [38.   ,  0.   ,  0.   ,  1.   , 11.326],\n",
       "       [45.   ,  0.   ,  0.   ,  0.   , 12.854],\n",
       "       [19.   ,  0.   ,  0.   ,  0.   , 13.313],\n",
       "       [43.   ,  1.   ,  0.   ,  0.   , 13.972],\n",
       "       [50.   ,  1.   ,  0.   ,  0.   ,  7.49 ],\n",
       "       [32.   ,  0.   ,  0.   ,  1.   , 10.292],\n",
       "       [42.   ,  1.   ,  0.   ,  1.   , 12.766],\n",
       "       [26.   ,  0.   ,  0.   ,  1.   , 12.307],\n",
       "       [32.   ,  1.   ,  0.   ,  1.   ,  9.445],\n",
       "       [53.   ,  0.   ,  0.   ,  1.   , 12.495],\n",
       "       [60.   ,  1.   ,  0.   ,  0.   , 13.934],\n",
       "       [60.   ,  0.   ,  0.   ,  0.   , 13.303],\n",
       "       [68.   ,  0.   ,  0.   ,  1.   , 10.189],\n",
       "       [65.   ,  1.   ,  0.   ,  1.   , 11.34 ],\n",
       "       [74.   ,  1.   ,  0.   ,  0.   ,  9.567],\n",
       "       [55.   ,  0.   ,  0.   ,  0.   , 10.977],\n",
       "       [51.   ,  1.   ,  0.   ,  1.   , 11.343],\n",
       "       [72.   ,  1.   ,  0.   ,  1.   ,  9.677],\n",
       "       [47.   ,  1.   ,  1.   ,  0.   , 13.093],\n",
       "       [56.   ,  0.   ,  1.   ,  0.   , 11.567],\n",
       "       [32.   ,  0.   ,  1.   ,  0.   ,  9.712],\n",
       "       [47.   ,  1.   ,  1.   ,  0.   , 10.114],\n",
       "       [49.   ,  1.   ,  1.   ,  0.   , 10.537],\n",
       "       [59.   ,  0.   ,  1.   ,  0.   , 10.444],\n",
       "       [26.   ,  0.   ,  1.   ,  0.   , 14.16 ],\n",
       "       [16.   ,  1.   ,  1.   ,  0.   , 12.006],\n",
       "       [72.   ,  1.   ,  1.   ,  0.   ,  6.769],\n",
       "       [47.   ,  0.   ,  1.   ,  0.   , 10.067],\n",
       "       [15.   ,  1.   ,  2.   ,  0.   ,  9.084],\n",
       "       [24.   ,  0.   ,  2.   ,  0.   , 10.605],\n",
       "       [22.   ,  1.   ,  2.   ,  0.   , 11.953],\n",
       "       [64.   ,  1.   ,  2.   ,  0.   ,  7.761],\n",
       "       [39.   ,  1.   ,  1.   ,  1.   , 13.938],\n",
       "       [69.   ,  1.   ,  1.   ,  1.   , 11.455],\n",
       "       [45.   ,  1.   ,  1.   ,  1.   ,  8.37 ],\n",
       "       [53.   ,  1.   ,  2.   ,  0.   , 14.133],\n",
       "       [34.   ,  0.   ,  1.   ,  1.   , 12.923],\n",
       "       [36.   ,  1.   ,  1.   ,  1.   , 11.424],\n",
       "       [56.   ,  1.   ,  2.   ,  0.   ,  8.966],\n",
       "       [37.   ,  1.   ,  1.   ,  1.   ,  8.968],\n",
       "       [72.   ,  0.   ,  1.   ,  1.   , 14.642],\n",
       "       [32.   ,  0.   ,  1.   ,  1.   , 10.84 ],\n",
       "       [20.   ,  0.   ,  1.   ,  1.   , 11.686],\n",
       "       [23.   ,  1.   ,  2.   ,  0.   , 12.26 ],\n",
       "       [65.   ,  0.   ,  1.   ,  1.   , 13.769],\n",
       "       [49.   ,  1.   ,  1.   ,  1.   , 11.014],\n",
       "       [69.   ,  0.   ,  2.   ,  0.   , 10.065]])"
      ]
     },
     "execution_count": 7,
     "metadata": {},
     "output_type": "execute_result"
    }
   ],
   "source": [
    "svc.support_vectors_"
   ]
  },
  {
   "cell_type": "code",
   "execution_count": 8,
   "id": "efdcbf0a",
   "metadata": {},
   "outputs": [
    {
     "name": "stdout",
     "output_type": "stream",
     "text": [
      "              precision    recall  f1-score   support\n",
      "\n",
      "       DrugY       1.00      1.00      1.00        34\n",
      "       drugA       1.00      1.00      1.00         7\n",
      "       drugB       1.00      1.00      1.00         3\n",
      "       drugC       1.00      1.00      1.00         4\n",
      "       drugX       1.00      1.00      1.00        12\n",
      "\n",
      "    accuracy                           1.00        60\n",
      "   macro avg       1.00      1.00      1.00        60\n",
      "weighted avg       1.00      1.00      1.00        60\n",
      "\n"
     ]
    }
   ],
   "source": [
    "from sklearn.metrics import classification_report\n",
    "print(classification_report(Y_test, y_pred))\n"
   ]
  },
  {
   "cell_type": "code",
   "execution_count": 9,
   "id": "38e5c6e4",
   "metadata": {},
   "outputs": [
    {
     "name": "stdout",
     "output_type": "stream",
     "text": [
      "[[34  0  0  0  0]\n",
      " [ 0  7  0  0  0]\n",
      " [ 0  0  3  0  0]\n",
      " [ 0  0  0  4  0]\n",
      " [ 0  0  0  0 12]]\n",
      "1.0\n"
     ]
    }
   ],
   "source": [
    "from sklearn.metrics import accuracy_score\n",
    "from sklearn.metrics import confusion_matrix\n",
    "\n",
    "cm=confusion_matrix(Y_test,y_pred)\n",
    "ac=accuracy_score(Y_test, y_pred)\n",
    "print(cm)\n",
    "print(ac)"
   ]
  },
  {
   "cell_type": "code",
   "execution_count": null,
   "id": "b1c9fb3a",
   "metadata": {},
   "outputs": [],
   "source": []
  }
 ],
 "metadata": {
  "kernelspec": {
   "display_name": "Python 3 (ipykernel)",
   "language": "python",
   "name": "python3"
  },
  "language_info": {
   "codemirror_mode": {
    "name": "ipython",
    "version": 3
   },
   "file_extension": ".py",
   "mimetype": "text/x-python",
   "name": "python",
   "nbconvert_exporter": "python",
   "pygments_lexer": "ipython3",
   "version": "3.9.12"
  }
 },
 "nbformat": 4,
 "nbformat_minor": 5
}
